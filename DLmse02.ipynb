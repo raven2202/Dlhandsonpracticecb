{
  "nbformat": 4,
  "nbformat_minor": 0,
  "metadata": {
    "colab": {
      "provenance": []
    },
    "kernelspec": {
      "name": "python3",
      "display_name": "Python 3"
    },
    "language_info": {
      "name": "python"
    }
  },
  "cells": [
    {
      "cell_type": "code",
      "execution_count": 1,
      "metadata": {
        "id": "fS9qu_e3D_XB"
      },
      "outputs": [],
      "source": [
        "import numpy as np\n",
        "y_predicted=np.array([1,1,0,0,1])\n",
        "y_true=np.array([0.30,0.7,1,0,0.5])"
      ]
    },
    {
      "cell_type": "code",
      "source": [
        "def mse(y_true,y_predicted):\n",
        "  total_error=0\n",
        "  for yt,yp in zip(y_true,y_predicted):\n",
        "    total_error+=(yt-yp)**2\n",
        "  print(total_error)\n",
        "  mse=total_error/len(y_true)\n",
        "  print(mse)"
      ],
      "metadata": {
        "id": "Y4xpVz-OEaEc"
      },
      "execution_count": 3,
      "outputs": []
    },
    {
      "cell_type": "code",
      "source": [
        "mse(y_true,y_predicted)"
      ],
      "metadata": {
        "colab": {
          "base_uri": "https://localhost:8080/"
        },
        "id": "PlHBf1yCFC54",
        "outputId": "60e5d3b3-8e57-49ac-c3b5-26e13d5e3b3d"
      },
      "execution_count": 4,
      "outputs": [
        {
          "output_type": "stream",
          "name": "stdout",
          "text": [
            "1.83\n",
            "0.366\n"
          ]
        }
      ]
    },
    {
      "cell_type": "code",
      "source": [
        "np.square(y_true-y_predicted)"
      ],
      "metadata": {
        "colab": {
          "base_uri": "https://localhost:8080/"
        },
        "id": "PD-DahncFni4",
        "outputId": "32964c9b-3962-4dc5-ec26-e95a439fe319"
      },
      "execution_count": 6,
      "outputs": [
        {
          "output_type": "execute_result",
          "data": {
            "text/plain": [
              "array([0.49, 0.09, 1.  , 0.  , 0.25])"
            ]
          },
          "metadata": {},
          "execution_count": 6
        }
      ]
    },
    {
      "cell_type": "code",
      "source": [
        "np.sum(np.square(y_true-y_predicted))"
      ],
      "metadata": {
        "colab": {
          "base_uri": "https://localhost:8080/"
        },
        "id": "A5nR5w4WFr7S",
        "outputId": "3fd11a52-e77d-4c53-c0a8-7870353e90d0"
      },
      "execution_count": 7,
      "outputs": [
        {
          "output_type": "execute_result",
          "data": {
            "text/plain": [
              "np.float64(1.83)"
            ]
          },
          "metadata": {},
          "execution_count": 7
        }
      ]
    },
    {
      "cell_type": "code",
      "source": [
        "np.mean(np.square(y_true-y_predicted))"
      ],
      "metadata": {
        "colab": {
          "base_uri": "https://localhost:8080/"
        },
        "id": "sSsFDbgFFZaN",
        "outputId": "19313bc5-4283-4a8d-f921-73d97ef88599"
      },
      "execution_count": 5,
      "outputs": [
        {
          "output_type": "execute_result",
          "data": {
            "text/plain": [
              "np.float64(0.366)"
            ]
          },
          "metadata": {},
          "execution_count": 5
        }
      ]
    },
    {
      "cell_type": "code",
      "source": [],
      "metadata": {
        "id": "eWvEoirGFjmZ"
      },
      "execution_count": null,
      "outputs": []
    }
  ]
}